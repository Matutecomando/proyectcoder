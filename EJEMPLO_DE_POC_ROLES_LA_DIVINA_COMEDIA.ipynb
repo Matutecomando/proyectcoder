{
  "nbformat": 4,
  "nbformat_minor": 0,
  "metadata": {
    "colab": {
      "provenance": [],
      "authorship_tag": "ABX9TyNSqy33MrsLIB1PoKa8zWe4",
      "include_colab_link": true
    },
    "kernelspec": {
      "name": "python3",
      "display_name": "Python 3"
    },
    "language_info": {
      "name": "python"
    }
  },
  "cells": [
    {
      "cell_type": "markdown",
      "metadata": {
        "id": "view-in-github",
        "colab_type": "text"
      },
      "source": [
        "<a href=\"https://colab.research.google.com/github/Matutecomando/proyectcoder/blob/main/EJEMPLO_DE_POC_ROLES_LA_DIVINA_COMEDIA.ipynb\" target=\"_parent\"><img src=\"https://colab.research.google.com/assets/colab-badge.svg\" alt=\"Open In Colab\"/></a>"
      ]
    },
    {
      "cell_type": "markdown",
      "source": [
        "***1. Selección del Participante***\n",
        "- Se elige a un actor\n",
        "- Debe practicar una escena con dificultad para memorizar."
      ],
      "metadata": {
        "id": "x_kRo4MPs8-j"
      }
    },
    {
      "cell_type": "code",
      "source": [
        "!pip install openai"
      ],
      "metadata": {
        "colab": {
          "base_uri": "https://localhost:8080/"
        },
        "id": "4gGE3g8_tmZ0",
        "outputId": "15ca880f-afd1-4adc-8c68-e70b9dcaf600"
      },
      "execution_count": null,
      "outputs": [
        {
          "output_type": "stream",
          "name": "stdout",
          "text": [
            "Requirement already satisfied: openai in /usr/local/lib/python3.11/dist-packages (1.69.0)\n",
            "Requirement already satisfied: anyio<5,>=3.5.0 in /usr/local/lib/python3.11/dist-packages (from openai) (4.9.0)\n",
            "Requirement already satisfied: distro<2,>=1.7.0 in /usr/local/lib/python3.11/dist-packages (from openai) (1.9.0)\n",
            "Requirement already satisfied: httpx<1,>=0.23.0 in /usr/local/lib/python3.11/dist-packages (from openai) (0.28.1)\n",
            "Requirement already satisfied: jiter<1,>=0.4.0 in /usr/local/lib/python3.11/dist-packages (from openai) (0.9.0)\n",
            "Requirement already satisfied: pydantic<3,>=1.9.0 in /usr/local/lib/python3.11/dist-packages (from openai) (2.11.0)\n",
            "Requirement already satisfied: sniffio in /usr/local/lib/python3.11/dist-packages (from openai) (1.3.1)\n",
            "Requirement already satisfied: tqdm>4 in /usr/local/lib/python3.11/dist-packages (from openai) (4.67.1)\n",
            "Requirement already satisfied: typing-extensions<5,>=4.11 in /usr/local/lib/python3.11/dist-packages (from openai) (4.13.0)\n",
            "Requirement already satisfied: idna>=2.8 in /usr/local/lib/python3.11/dist-packages (from anyio<5,>=3.5.0->openai) (3.10)\n",
            "Requirement already satisfied: certifi in /usr/local/lib/python3.11/dist-packages (from httpx<1,>=0.23.0->openai) (2025.1.31)\n",
            "Requirement already satisfied: httpcore==1.* in /usr/local/lib/python3.11/dist-packages (from httpx<1,>=0.23.0->openai) (1.0.7)\n",
            "Requirement already satisfied: h11<0.15,>=0.13 in /usr/local/lib/python3.11/dist-packages (from httpcore==1.*->httpx<1,>=0.23.0->openai) (0.14.0)\n",
            "Requirement already satisfied: annotated-types>=0.6.0 in /usr/local/lib/python3.11/dist-packages (from pydantic<3,>=1.9.0->openai) (0.7.0)\n",
            "Requirement already satisfied: pydantic-core==2.33.0 in /usr/local/lib/python3.11/dist-packages (from pydantic<3,>=1.9.0->openai) (2.33.0)\n",
            "Requirement already satisfied: typing-inspection>=0.4.0 in /usr/local/lib/python3.11/dist-packages (from pydantic<3,>=1.9.0->openai) (0.4.0)\n"
          ]
        }
      ]
    },
    {
      "cell_type": "code",
      "source": [
        "import openai"
      ],
      "metadata": {
        "id": "7tTjsdSFwWzU"
      },
      "execution_count": null,
      "outputs": []
    },
    {
      "cell_type": "markdown",
      "source": [
        "***2. Creación de Prompts de Prueba***\n",
        "- Para Chat GPT :\n",
        "Especifico el rol para el LLM y el rol del usuario. Le indico la obra con la que tiene que trabajar\n"
      ],
      "metadata": {
        "id": "uIf1klAEtUny"
      }
    },
    {
      "cell_type": "code",
      "source": [
        "\n",
        "system_role = \"\"\"Eres un experto en la traduccion de textos\"\"\"\n",
        "\n",
        "\n",
        "user_role = \"traduce el texto: A mitad del camino de nuestra vida me encontré por una selva oscura,porque la recta vía estaba perdida. ¡Ay, qué difícil es decir lo que era aquella selva salvaje, áspera y fuerte,cuyo recuerdo renueva el miedo!Es tan amarga que poco más es la muerte;pero para hablar del bien que allí encontré,diré de las demás cosas que vi..\""
      ],
      "metadata": {
        "id": "lweZEXFQwa5f"
      },
      "execution_count": null,
      "outputs": []
    },
    {
      "cell_type": "code",
      "source": [
        "response = client.models.generate_content(\n",
        "    model=\"gemini-2.0-flash\",\n",
        "    contents=\"traduce el texto de manera que se entienda: A mitad del camino de nuestra vida me encontré por una selva oscura,porque la recta vía estaba perdida. ¡Ay, qué difícil es decir lo que era aquella selva salvaje, áspera y fuerte,cuyo recuerdo renueva el miedo!Es tan amarga que poco más es la muerte;pero para hablar del bien que allí encontré,diré de las demás cosas que vi\", # El mensaje que le enviamos al modelo (nuestro \"prompt\")\n",
        ")"
      ],
      "metadata": {
        "id": "D5zIMk_vyU9Q"
      },
      "execution_count": null,
      "outputs": []
    },
    {
      "cell_type": "markdown",
      "source": [
        "***3. Aplicación y Ensayo***\n",
        "- El actor usa los prompts para estudiar y ensayar.\n",
        "- Practica con Chat GPT simulando diálogos y señales de entrada.\n",
        "\n",
        "\n",
        "\n"
      ],
      "metadata": {
        "id": "VTqFh4_cudvx"
      }
    },
    {
      "cell_type": "code",
      "source": [
        "print(response.text)"
      ],
      "metadata": {
        "colab": {
          "base_uri": "https://localhost:8080/"
        },
        "id": "AgdRzjzX0klN",
        "outputId": "dea34bf3-fc35-4521-abf4-2ec0bdb5211e"
      },
      "execution_count": null,
      "outputs": [
        {
          "output_type": "stream",
          "name": "stdout",
          "text": [
            "Aquí tienes una traducción del texto que busca ser más comprensible y mantener el significado original:\n",
            "\n",
            "**Traducción:**\n",
            "\n",
            "En la mitad de mi vida, me encontré perdido en un bosque oscuro, porque el camino correcto se había extraviado.  ¡Ay, qué difícil es describir ese bosque salvaje, lleno de obstáculos y peligroso, cuyo simple recuerdo me aterra!  Es tan amargo que casi se iguala a la muerte misma. Pero para contar lo bueno que encontré allí, hablaré también de las otras cosas que vi.\n",
            "\n",
            "**Explicación de los cambios:**\n",
            "\n",
            "*   **\"A mitad del camino de nuestra vida\"** se mantiene similar porque es una frase bastante común.\n",
            "*   **\"Selva oscura\"** se tradujo como \"bosque oscuro\" para hacerlo más común y familiar.\n",
            "*   **\"Recta vía estaba perdida\"** se traduce como \"el camino correcto se había extraviado\" para que sea más sencillo de entender.\n",
            "*   **\"Selva salvaje, áspera y fuerte\"** se describe como \"bosque salvaje, lleno de obstáculos y peligroso\" para dar más detalles sobre su naturaleza.\n",
            "*   **\"Cuyo recuerdo renueva el miedo\"** se reformula como \"cuyo simple recuerdo me aterra\" para hacerlo más directo.\n",
            "*   **\"Es tan amarga que poco más es la muerte\"** se parafrasea como \"Es tan amargo que casi se iguala a la muerte misma\" para aclarar la comparación.\n",
            "*   **\"Pero para hablar del bien que allí encontré, diré de las demás cosas que vi\"** se mantiene bastante fiel al original, ya que es una estructura clara.\n",
            "\n",
            "El objetivo es que la traducción sea más accesible para un lector moderno sin perder la esencia y el tono del original.\n",
            "\n"
          ]
        }
      ]
    },
    {
      "cell_type": "markdown",
      "source": [
        "***4. Evaluación de Resultados***\n",
        "- ¿Se sintió más seguro con su texto?\n",
        "- ¿Recordó mejor las líneas comparado con el método tradicional?"
      ],
      "metadata": {
        "id": "w2lIYEYNu-co"
      }
    },
    {
      "cell_type": "markdown",
      "source": [
        "***5. Ajustes y Conclusión***\n",
        "- Si la IA ayuda, puedo mejorar la estrategia y aplicarla en más actores.\n",
        "- Si hubo dificultades, ajustar los prompts iterando y probar con otro enfoque."
      ],
      "metadata": {
        "id": "zo84PuuhvDe9"
      }
    }
  ]
}